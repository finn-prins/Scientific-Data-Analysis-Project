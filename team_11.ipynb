{
 "cells": [
  {
   "cell_type": "markdown",
   "metadata": {},
   "source": [
    "# Team 11: Predicting the Impact of Twitter Posts on Bitcoin Prices\n",
    "\n",
    "**Group Members:**  Andrey Bartashevich (14586517), Finn Prins (13458434), Duco Trompert (14591227)\n",
    "\n",
    "**Research Question:** Can Twitter (a.k.a. X) posts of famous people influence the prices of Bitcoin?\n",
    "\n",
    "# Hypothesis: \n",
    "**Null hypothesis:** There is no impact of Twitter  posts by individuals with over one million followers on the Bitcoin price movements.\n",
    "\n",
    "**Alternative Hypothesis:** There is an impact of Twitter posts by individuals with over one million followers on the Bitcoin price movements\n",
    "\n",
    "\n",
    "**Potentialy change the 1 mill foloowers with 250 000 followers, because the dataset doesnt have enough values for users with 1 000 000 followers.**"
   ]
  },
  {
   "cell_type": "markdown",
   "metadata": {},
   "source": [
    "**Imports**"
   ]
  },
  {
   "cell_type": "code",
   "execution_count": 28,
   "metadata": {},
   "outputs": [],
   "source": [
    "import pandas as pd\n",
    "import numpy as np\n",
    "import matplotlib.pyplot as plt"
   ]
  },
  {
   "cell_type": "markdown",
   "metadata": {},
   "source": [
    "**Data Processing**"
   ]
  },
  {
   "cell_type": "markdown",
   "metadata": {},
   "source": [
    "Twitter dataset"
   ]
  },
  {
   "cell_type": "code",
   "execution_count": 29,
   "metadata": {},
   "outputs": [
    {
     "name": "stderr",
     "output_type": "stream",
     "text": [
      "/var/folders/d6/qmvkgm9x2kq_2htc9f1yhtb00000gn/T/ipykernel_16781/4214178925.py:2: DtypeWarning: Columns (3) have mixed types. Specify dtype option on import or set low_memory=False.\n",
      "  tweet = pd.read_csv('data/tweets.csv', delimiter=';', lineterminator='\\n')\n"
     ]
    },
    {
     "data": {
      "text/html": [
       "<div>\n",
       "<style scoped>\n",
       "    .dataframe tbody tr th:only-of-type {\n",
       "        vertical-align: middle;\n",
       "    }\n",
       "\n",
       "    .dataframe tbody tr th {\n",
       "        vertical-align: top;\n",
       "    }\n",
       "\n",
       "    .dataframe thead th {\n",
       "        text-align: right;\n",
       "    }\n",
       "</style>\n",
       "<table border=\"1\" class=\"dataframe\">\n",
       "  <thead>\n",
       "    <tr style=\"text-align: right;\">\n",
       "      <th></th>\n",
       "      <th>date</th>\n",
       "      <th>user</th>\n",
       "      <th>fullname</th>\n",
       "      <th>replies</th>\n",
       "      <th>likes</th>\n",
       "      <th>retweets</th>\n",
       "      <th>text</th>\n",
       "    </tr>\n",
       "  </thead>\n",
       "  <tbody>\n",
       "    <tr>\n",
       "      <th>0</th>\n",
       "      <td>2019-05-27 11:49:00</td>\n",
       "      <td>KamdemAbdiel</td>\n",
       "      <td>Abdiel kamdem</td>\n",
       "      <td>0</td>\n",
       "      <td>0</td>\n",
       "      <td>0</td>\n",
       "      <td>È appena uscito un nuovo video! LES CRYPTOMONN...</td>\n",
       "    </tr>\n",
       "    <tr>\n",
       "      <th>1</th>\n",
       "      <td>2019-05-27 11:49:00</td>\n",
       "      <td>bitcointe</td>\n",
       "      <td>Bitcointe</td>\n",
       "      <td>0</td>\n",
       "      <td>0</td>\n",
       "      <td>0</td>\n",
       "      <td>Cardano: Digitize Currencies; EOS https://t.co...</td>\n",
       "    </tr>\n",
       "    <tr>\n",
       "      <th>2</th>\n",
       "      <td>2019-05-27 11:49:00</td>\n",
       "      <td>3eyedbran</td>\n",
       "      <td>Bran - 3 Eyed Raven</td>\n",
       "      <td>0</td>\n",
       "      <td>2</td>\n",
       "      <td>1</td>\n",
       "      <td>Another Test tweet that wasn't caught in the s...</td>\n",
       "    </tr>\n",
       "    <tr>\n",
       "      <th>3</th>\n",
       "      <td>2019-05-27 11:49:00</td>\n",
       "      <td>DetroitCrypto</td>\n",
       "      <td>J. Scardina</td>\n",
       "      <td>0</td>\n",
       "      <td>0</td>\n",
       "      <td>0</td>\n",
       "      <td>Current Crypto Prices! \\n\\nBTC: $8721.99 USD\\n...</td>\n",
       "    </tr>\n",
       "    <tr>\n",
       "      <th>4</th>\n",
       "      <td>2019-05-27 11:49:00</td>\n",
       "      <td>mmursaleen72</td>\n",
       "      <td>Muhammad Mursaleen</td>\n",
       "      <td>0</td>\n",
       "      <td>0</td>\n",
       "      <td>0</td>\n",
       "      <td>Spiv (Nosar Baz): BITCOIN Is An Asset &amp;amp; NO...</td>\n",
       "    </tr>\n",
       "  </tbody>\n",
       "</table>\n",
       "</div>"
      ],
      "text/plain": [
       "                 date           user             fullname  replies  likes  \\\n",
       "0 2019-05-27 11:49:00   KamdemAbdiel        Abdiel kamdem        0      0   \n",
       "1 2019-05-27 11:49:00      bitcointe            Bitcointe        0      0   \n",
       "2 2019-05-27 11:49:00      3eyedbran  Bran - 3 Eyed Raven        0      2   \n",
       "3 2019-05-27 11:49:00  DetroitCrypto          J. Scardina        0      0   \n",
       "4 2019-05-27 11:49:00   mmursaleen72   Muhammad Mursaleen        0      0   \n",
       "\n",
       "   retweets                                               text  \n",
       "0         0  È appena uscito un nuovo video! LES CRYPTOMONN...  \n",
       "1         0  Cardano: Digitize Currencies; EOS https://t.co...  \n",
       "2         1  Another Test tweet that wasn't caught in the s...  \n",
       "3         0  Current Crypto Prices! \\n\\nBTC: $8721.99 USD\\n...  \n",
       "4         0  Spiv (Nosar Baz): BITCOIN Is An Asset &amp; NO...  "
      ]
     },
     "execution_count": 29,
     "metadata": {},
     "output_type": "execute_result"
    }
   ],
   "source": [
    "#open twitter csv file\n",
    "tweet = pd.read_csv('data/tweets.csv', delimiter=';', lineterminator='\\n')\n",
    "#rename timestamp and text\\r columns \n",
    "tweet.rename(columns={'timestamp' : 'date','text\\r' : 'text'}, inplace=True)\n",
    "#convert data to datetime format, and drop timezone information as it irrelevant\n",
    "tweet['date'] = pd.to_datetime(tweet['date']).dt.tz_localize(None)\n",
    "#rounding seconds in date for consistency with bitcoin dataset\n",
    "tweet['date'] = tweet['date'].dt.round('T')\n",
    "#specified columns\n",
    "tweet[['date', 'user', 'fullname', 'replies', 'likes', 'retweets', 'text']].head()"
   ]
  },
  {
   "cell_type": "markdown",
   "metadata": {},
   "source": [
    "Bitcoin dataset"
   ]
  },
  {
   "cell_type": "code",
   "execution_count": 30,
   "metadata": {},
   "outputs": [
    {
     "data": {
      "text/html": [
       "<div>\n",
       "<style scoped>\n",
       "    .dataframe tbody tr th:only-of-type {\n",
       "        vertical-align: middle;\n",
       "    }\n",
       "\n",
       "    .dataframe tbody tr th {\n",
       "        vertical-align: top;\n",
       "    }\n",
       "\n",
       "    .dataframe thead th {\n",
       "        text-align: right;\n",
       "    }\n",
       "</style>\n",
       "<table border=\"1\" class=\"dataframe\">\n",
       "  <thead>\n",
       "    <tr style=\"text-align: right;\">\n",
       "      <th></th>\n",
       "      <th>date</th>\n",
       "      <th>price</th>\n",
       "      <th>volume</th>\n",
       "    </tr>\n",
       "  </thead>\n",
       "  <tbody>\n",
       "    <tr>\n",
       "      <th>0</th>\n",
       "      <td>2012-01-01 10:01:00</td>\n",
       "      <td>4.58</td>\n",
       "      <td>0.0</td>\n",
       "    </tr>\n",
       "    <tr>\n",
       "      <th>1</th>\n",
       "      <td>2012-01-01 10:02:00</td>\n",
       "      <td>4.58</td>\n",
       "      <td>0.0</td>\n",
       "    </tr>\n",
       "    <tr>\n",
       "      <th>2</th>\n",
       "      <td>2012-01-01 10:03:00</td>\n",
       "      <td>4.58</td>\n",
       "      <td>0.0</td>\n",
       "    </tr>\n",
       "    <tr>\n",
       "      <th>3</th>\n",
       "      <td>2012-01-01 10:04:00</td>\n",
       "      <td>4.58</td>\n",
       "      <td>0.0</td>\n",
       "    </tr>\n",
       "    <tr>\n",
       "      <th>4</th>\n",
       "      <td>2012-01-01 10:05:00</td>\n",
       "      <td>4.58</td>\n",
       "      <td>0.0</td>\n",
       "    </tr>\n",
       "  </tbody>\n",
       "</table>\n",
       "</div>"
      ],
      "text/plain": [
       "                 date  price  volume\n",
       "0 2012-01-01 10:01:00   4.58     0.0\n",
       "1 2012-01-01 10:02:00   4.58     0.0\n",
       "2 2012-01-01 10:03:00   4.58     0.0\n",
       "3 2012-01-01 10:04:00   4.58     0.0\n",
       "4 2012-01-01 10:05:00   4.58     0.0"
      ]
     },
     "execution_count": 30,
     "metadata": {},
     "output_type": "execute_result"
    }
   ],
   "source": [
    "#open bitcoin csv\n",
    "bitcoin = pd.read_csv('data/btcusd_1-min_data.csv')\n",
    "#renaming timestamp, Close and Volume columns \n",
    "bitcoin.rename(columns={'Timestamp' : 'date','Close': 'price', 'Volume' : 'volume'}, inplace=True)\n",
    "#converting date into datetime\n",
    "bitcoin['date'] = pd.to_datetime(bitcoin['date'], unit='s')\n",
    "#specified columns\n",
    "bitcoin[['date','price','volume']].head()\n"
   ]
  },
  {
   "cell_type": "markdown",
   "metadata": {},
   "source": [
    "Merging two datasets"
   ]
  },
  {
   "cell_type": "code",
   "execution_count": 31,
   "metadata": {},
   "outputs": [
    {
     "data": {
      "text/html": [
       "<div>\n",
       "<style scoped>\n",
       "    .dataframe tbody tr th:only-of-type {\n",
       "        vertical-align: middle;\n",
       "    }\n",
       "\n",
       "    .dataframe tbody tr th {\n",
       "        vertical-align: top;\n",
       "    }\n",
       "\n",
       "    .dataframe thead th {\n",
       "        text-align: right;\n",
       "    }\n",
       "</style>\n",
       "<table border=\"1\" class=\"dataframe\">\n",
       "  <thead>\n",
       "    <tr style=\"text-align: right;\">\n",
       "      <th></th>\n",
       "      <th>date</th>\n",
       "      <th>user</th>\n",
       "      <th>fullname</th>\n",
       "      <th>replies</th>\n",
       "      <th>likes</th>\n",
       "      <th>retweets</th>\n",
       "      <th>text</th>\n",
       "      <th>price</th>\n",
       "      <th>volume</th>\n",
       "    </tr>\n",
       "  </thead>\n",
       "  <tbody>\n",
       "    <tr>\n",
       "      <th>0</th>\n",
       "      <td>2019-05-27 11:49:00</td>\n",
       "      <td>KamdemAbdiel</td>\n",
       "      <td>Abdiel kamdem</td>\n",
       "      <td>0</td>\n",
       "      <td>0</td>\n",
       "      <td>0</td>\n",
       "      <td>È appena uscito un nuovo video! LES CRYPTOMONN...</td>\n",
       "      <td>8785.54</td>\n",
       "      <td>1.250155</td>\n",
       "    </tr>\n",
       "    <tr>\n",
       "      <th>1</th>\n",
       "      <td>2019-05-27 11:49:00</td>\n",
       "      <td>bitcointe</td>\n",
       "      <td>Bitcointe</td>\n",
       "      <td>0</td>\n",
       "      <td>0</td>\n",
       "      <td>0</td>\n",
       "      <td>Cardano: Digitize Currencies; EOS https://t.co...</td>\n",
       "      <td>8785.54</td>\n",
       "      <td>1.250155</td>\n",
       "    </tr>\n",
       "    <tr>\n",
       "      <th>2</th>\n",
       "      <td>2019-05-27 11:49:00</td>\n",
       "      <td>3eyedbran</td>\n",
       "      <td>Bran - 3 Eyed Raven</td>\n",
       "      <td>0</td>\n",
       "      <td>2</td>\n",
       "      <td>1</td>\n",
       "      <td>Another Test tweet that wasn't caught in the s...</td>\n",
       "      <td>8785.54</td>\n",
       "      <td>1.250155</td>\n",
       "    </tr>\n",
       "    <tr>\n",
       "      <th>3</th>\n",
       "      <td>2019-05-27 11:49:00</td>\n",
       "      <td>DetroitCrypto</td>\n",
       "      <td>J. Scardina</td>\n",
       "      <td>0</td>\n",
       "      <td>0</td>\n",
       "      <td>0</td>\n",
       "      <td>Current Crypto Prices! \\n\\nBTC: $8721.99 USD\\n...</td>\n",
       "      <td>8785.54</td>\n",
       "      <td>1.250155</td>\n",
       "    </tr>\n",
       "    <tr>\n",
       "      <th>4</th>\n",
       "      <td>2019-05-27 11:49:00</td>\n",
       "      <td>mmursaleen72</td>\n",
       "      <td>Muhammad Mursaleen</td>\n",
       "      <td>0</td>\n",
       "      <td>0</td>\n",
       "      <td>0</td>\n",
       "      <td>Spiv (Nosar Baz): BITCOIN Is An Asset &amp;amp; NO...</td>\n",
       "      <td>8785.54</td>\n",
       "      <td>1.250155</td>\n",
       "    </tr>\n",
       "  </tbody>\n",
       "</table>\n",
       "</div>"
      ],
      "text/plain": [
       "                 date           user             fullname  replies  likes  \\\n",
       "0 2019-05-27 11:49:00   KamdemAbdiel        Abdiel kamdem        0      0   \n",
       "1 2019-05-27 11:49:00      bitcointe            Bitcointe        0      0   \n",
       "2 2019-05-27 11:49:00      3eyedbran  Bran - 3 Eyed Raven        0      2   \n",
       "3 2019-05-27 11:49:00  DetroitCrypto          J. Scardina        0      0   \n",
       "4 2019-05-27 11:49:00   mmursaleen72   Muhammad Mursaleen        0      0   \n",
       "\n",
       "   retweets                                               text    price  \\\n",
       "0         0  È appena uscito un nuovo video! LES CRYPTOMONN...  8785.54   \n",
       "1         0  Cardano: Digitize Currencies; EOS https://t.co...  8785.54   \n",
       "2         1  Another Test tweet that wasn't caught in the s...  8785.54   \n",
       "3         0  Current Crypto Prices! \\n\\nBTC: $8721.99 USD\\n...  8785.54   \n",
       "4         0  Spiv (Nosar Baz): BITCOIN Is An Asset &amp; NO...  8785.54   \n",
       "\n",
       "     volume  \n",
       "0  1.250155  \n",
       "1  1.250155  \n",
       "2  1.250155  \n",
       "3  1.250155  \n",
       "4  1.250155  "
      ]
     },
     "execution_count": 31,
     "metadata": {},
     "output_type": "execute_result"
    }
   ],
   "source": [
    "#mergin two datasets by date\n",
    "merged = pd.merge(tweet[['date', 'user', 'fullname', 'replies', 'likes', 'retweets', 'text']],\n",
    "                  bitcoin[['date', 'price', 'volume']], on='date', how='inner')\n",
    "merged.head()\n"
   ]
  },
  {
   "cell_type": "markdown",
   "metadata": {},
   "source": [
    "Data visualization"
   ]
  },
  {
   "cell_type": "code",
   "execution_count": 32,
   "metadata": {},
   "outputs": [
    {
     "data": {
      "image/png": "[encoded data removed]",
      "text/plain": [
       "<Figure size 1500x600 with 2 Axes>"
      ]
     },
     "metadata": {},
     "output_type": "display_data"
    }
   ],
   "source": [
    "fig, (ax1, ax2) = plt.subplots(1, 2, figsize=(15, 6))\n",
    "fig.suptitle('Distribution of Price and Volume', fontsize=16, y=1.05)\n",
    "ax1.hist(merged['price'], bins=50, edgecolor='black')\n",
    "ax1.set_title('Distribution of Price')\n",
    "ax1.set_xlabel('Price')\n",
    "ax1.set_ylabel('Frequency')\n",
    "ax2.hist(merged['volume'], bins=50, edgecolor='black')\n",
    "ax2.set_title('Distribution of Volume')\n",
    "ax2.set_xlabel('Volume')\n",
    "ax2.set_ylabel('Frequency')\n",
    "plt.tight_layout()\n",
    "plt.show()"
   ]
  },
  {
   "cell_type": "code",
   "execution_count": null,
   "metadata": {},
   "outputs": [],
   "source": []
  }
 ],
 "metadata": {
  "kernelspec": {
   "display_name": "Python 3",
   "language": "python",
   "name": "python3"
  },
  "language_info": {
   "codemirror_mode": {
    "name": "ipython",
    "version": 3
   },
   "file_extension": ".py",
   "mimetype": "text/x-python",
   "name": "python",
   "nbconvert_exporter": "python",
   "pygments_lexer": "ipython3",
   "version": "3.12.0"
  }
 },
 "nbformat": 4,
 "nbformat_minor": 2
}
