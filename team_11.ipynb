{
 "cells": [
  {
   "cell_type": "markdown",
   "metadata": {},
   "source": [
    "# Team 11: Predicting the Impact of Twitter Posts on Bitcoin Prices\n",
    "\n",
    "**Group Members:**  Andrey Bartashevich (14586517), Finn Prins (13458434), Duco Trompert (14591227)\n",
    "\n",
    "**Research Question:** Can Twitter (a.k.a. X) posts of famous people influence the prices of Bitcoin?\n",
    "\n",
    "# Hypothesis: \n",
    "**Null hypothesis:** There is no impact of Twitter  posts by individuals with over one million followers on the Bitcoin price movements.\n",
    "\n",
    "**Alternative Hypothesis:** There is an impact of Twitter posts by individuals with over one million followers on the Bitcoin price movements\n",
    "\n",
    "\n",
    "**Potentialy change the 1 mill foloowers with 250 000 followers, because the dataset doesnt have enough values for users with 1 000 000 followers.**"
   ]
  },
  {
   "cell_type": "markdown",
   "metadata": {},
   "source": [
    "**Imports**"
   ]
  },
  {
   "cell_type": "code",
   "execution_count": null,
   "metadata": {},
   "outputs": [],
   "source": [
    "import pandas as pd\n",
    "import numpy as np\n",
    "import matplotlib.pyplot as plt\n",
    "from vaderSentiment.vaderSentiment import SentimentIntensityAnalyzer\n",
    "from langdetect import detect\n",
    "from langdetect import DetectorFactory"
   ]
  },
  {
   "cell_type": "markdown",
   "metadata": {},
   "source": [
    "**Data Processing**"
   ]
  },
  {
   "cell_type": "markdown",
   "metadata": {},
   "source": [
    "Twitter dataset"
   ]
  },
  {
   "cell_type": "code",
   "execution_count": 2,
   "metadata": {},
   "outputs": [
    {
     "name": "stderr",
     "output_type": "stream",
     "text": [
      "/tmp/ipykernel_32337/2163751661.py:2: DtypeWarning: Columns (3) have mixed types. Specify dtype option on import or set low_memory=False.\n",
      "  tweet = pd.read_csv('data/tweets.csv', delimiter=';', lineterminator='\\n')\n"
     ]
    },
    {
     "name": "stdout",
     "output_type": "stream",
     "text": [
      "500\n"
     ]
    }
   ],
   "source": [
    "#open twitter csv file\n",
    "tweet = pd.read_csv('data/tweets.csv', delimiter=';', lineterminator='\\n')\n",
    "tweet = tweet.head(500)\n",
    "#rename timestamp and text\\r columns\n",
    "tweet.rename(columns={'timestamp' : 'date','text\\r' : 'text'}, inplace=True)\n",
    "#convert data to datetime format, and drop timezone information as it is irrelevant\n",
    "tweet['date'] = pd.to_datetime(tweet['date']).dt.tz_localize(None)\n",
    "#rounding seconds in date for consistency with bitcoin dataset\n",
    "tweet['date'] = tweet['date'].dt.round('T')\n",
    "#specified columns\n",
    "tweet[['date', 'user', 'fullname', 'replies', 'likes', 'retweets', 'text']]\n",
    "print(len(tweet))"
   ]
  },
  {
   "cell_type": "markdown",
   "metadata": {},
   "source": [
    "Bitcoin dataset"
   ]
  },
  {
   "cell_type": "code",
   "execution_count": 3,
   "metadata": {},
   "outputs": [
    {
     "data": {
      "text/html": [
       "<div>\n",
       "<style scoped>\n",
       "    .dataframe tbody tr th:only-of-type {\n",
       "        vertical-align: middle;\n",
       "    }\n",
       "\n",
       "    .dataframe tbody tr th {\n",
       "        vertical-align: top;\n",
       "    }\n",
       "\n",
       "    .dataframe thead th {\n",
       "        text-align: right;\n",
       "    }\n",
       "</style>\n",
       "<table border=\"1\" class=\"dataframe\">\n",
       "  <thead>\n",
       "    <tr style=\"text-align: right;\">\n",
       "      <th></th>\n",
       "      <th>date</th>\n",
       "      <th>price</th>\n",
       "      <th>volume</th>\n",
       "    </tr>\n",
       "  </thead>\n",
       "  <tbody>\n",
       "    <tr>\n",
       "      <th>0</th>\n",
       "      <td>2012-01-01 10:01:00</td>\n",
       "      <td>4.58</td>\n",
       "      <td>0.0</td>\n",
       "    </tr>\n",
       "    <tr>\n",
       "      <th>1</th>\n",
       "      <td>2012-01-01 10:02:00</td>\n",
       "      <td>4.58</td>\n",
       "      <td>0.0</td>\n",
       "    </tr>\n",
       "    <tr>\n",
       "      <th>2</th>\n",
       "      <td>2012-01-01 10:03:00</td>\n",
       "      <td>4.58</td>\n",
       "      <td>0.0</td>\n",
       "    </tr>\n",
       "    <tr>\n",
       "      <th>3</th>\n",
       "      <td>2012-01-01 10:04:00</td>\n",
       "      <td>4.58</td>\n",
       "      <td>0.0</td>\n",
       "    </tr>\n",
       "    <tr>\n",
       "      <th>4</th>\n",
       "      <td>2012-01-01 10:05:00</td>\n",
       "      <td>4.58</td>\n",
       "      <td>0.0</td>\n",
       "    </tr>\n",
       "  </tbody>\n",
       "</table>\n",
       "</div>"
      ],
      "text/plain": [
       "                 date  price  volume\n",
       "0 2012-01-01 10:01:00   4.58     0.0\n",
       "1 2012-01-01 10:02:00   4.58     0.0\n",
       "2 2012-01-01 10:03:00   4.58     0.0\n",
       "3 2012-01-01 10:04:00   4.58     0.0\n",
       "4 2012-01-01 10:05:00   4.58     0.0"
      ]
     },
     "execution_count": 3,
     "metadata": {},
     "output_type": "execute_result"
    }
   ],
   "source": [
    "#open bitcoin csv\n",
    "bitcoin = pd.read_csv('data/btcusd_1-min_data.csv')\n",
    "#renaming timestamp, Close and Volume columns\n",
    "bitcoin.rename(columns={'Timestamp' : 'date','Close': 'price', 'Volume' : 'volume'}, inplace=True)\n",
    "#converting date into datetime\n",
    "bitcoin['date'] = pd.to_datetime(bitcoin['date'], unit='s')\n",
    "#specified columns\n",
    "bitcoin[['date','price','volume']].head()\n"
   ]
  },
  {
   "cell_type": "markdown",
   "metadata": {},
   "source": [
    "Merging two datasets"
   ]
  },
  {
   "cell_type": "code",
   "execution_count": 4,
   "metadata": {},
   "outputs": [
    {
     "name": "stdout",
     "output_type": "stream",
     "text": [
      "499\n"
     ]
    }
   ],
   "source": [
    "#mergin two datasets by date\n",
    "merged = pd.merge(tweet[['date', 'user', 'fullname', 'replies', 'likes', 'retweets', 'text']],\n",
    "                  bitcoin[['date', 'price', 'volume']], on='date', how='inner')\n",
    "merged.head()\n",
    "print(len(merged))\n"
   ]
  },
  {
   "cell_type": "markdown",
   "metadata": {},
   "source": [
    "Data visualization"
   ]
  },
  {
   "cell_type": "code",
   "execution_count": 5,
   "metadata": {},
   "outputs": [
    {
     "data": {
      "image/png": "[encoded data removed]",
      "text/plain": [
       "<Figure size 1500x600 with 2 Axes>"
      ]
     },
     "metadata": {},
     "output_type": "display_data"
    }
   ],
   "source": [
    "fig, (ax1, ax2) = plt.subplots(1, 2, figsize=(15, 6))\n",
    "ax1.hist(merged['price'], bins=50)\n",
    "ax1.set_title('distribution of prices')\n",
    "ax1.set_xlabel('price')\n",
    "ax1.set_ylabel('frequency')\n",
    "ax2.hist(merged['volume'], bins=50)\n",
    "ax2.set_title('volume distribution')\n",
    "ax2.set_xlabel('volume')\n",
    "ax2.set_ylabel('frequency')\n",
    "plt.tight_layout()\n",
    "plt.show()"
   ]
  },
  {
   "cell_type": "code",
   "execution_count": 6,
   "metadata": {},
   "outputs": [
    {
     "name": "stdout",
     "output_type": "stream",
     "text": [
      "   sentiment  compound                                      analyzed_text\n",
      "1          1    0.3818  Cardano: Digitize Currencies; EOS https://t.co...\n",
      "2          0    0.0000  Another Test tweet that wasn't caught in the s...\n",
      "3          0    0.0000  Current Crypto Prices! \\n\\nBTC: $8721.99 USD\\n...\n",
      "4          1    0.3612  Spiv (Nosar Baz): BITCOIN Is An Asset &amp; NO...\n",
      "6         -1   -0.4767  @nwoodfine We have been building on the real #...\n"
     ]
    }
   ],
   "source": [
    "# set seed for consistency of results\n",
    "DetectorFactory.seed = 0\n",
    "\n",
    "\n",
    "#detection of english tweets amoung tweets\n",
    "def is_english(text):\n",
    "    try:\n",
    "        #check if the line is Nan or empty\n",
    "        if pd.isna(text) or text.strip() == '':\n",
    "            return False\n",
    "        #using detect function to find english text\n",
    "        return detect(text) == 'en'\n",
    "    except:\n",
    "         return False\n",
    "\n",
    "\n",
    "#sentiment analysis using vader library\n",
    "def vader_sentiment(text):\n",
    "        #starting vader module for text analysis\n",
    "        analyzer = SentimentIntensityAnalyzer()\n",
    "        #geting sentiment scores on a scale from -1 to 1 as a dictionary (compound)\n",
    "        scores = analyzer.polarity_scores(text)\n",
    "        # calcualting the sentiment of each text based on the compund score\n",
    "        #positive\n",
    "        if scores['compound'] >= 0.05:\n",
    "            sentiment = 1\n",
    "        #negative\n",
    "        elif scores['compound'] <= -0.05:\n",
    "            sentiment = -1\n",
    "        #neutral\n",
    "        else:\n",
    "            sentiment = 0\n",
    "\n",
    "        return {'sentiment':sentiment, 'compound':scores['compound'], 'text':text}\n",
    "\n",
    "\n",
    "#replacing nan with empty line\n",
    "merged['text'] = merged['text'].fillna('')\n",
    "#convert all values into str\n",
    "merged['text'] = merged['text'].astype(str)\n",
    "#only taking english text and coping\n",
    "merged['language'] = merged['text'].apply(is_english)\n",
    "en_merged = merged[merged['language'] == True].copy()\n",
    "\n",
    "results = en_merged['text'].apply(vader_sentiment)\n",
    "\n",
    "#creating a series with sentiment, compund, text\n",
    "en_merged['sentiment'] = results.apply(lambda x: x['sentiment'])\n",
    "en_merged['compound'] = results.apply(lambda x: x['compound'])\n",
    "en_merged['analyzed_text'] = results.apply(lambda x: x['text'])\n",
    "en_merged_res = en_merged[['sentiment', 'compound', 'analyzed_text']]\n",
    "\n",
    "print(en_merged_res .head())"
   ]
  },
  {
   "cell_type": "code",
   "execution_count": 7,
   "metadata": {},
   "outputs": [
    {
     "name": "stdout",
     "output_type": "stream",
     "text": [
      "positive: 173\n",
      "neutral: 128\n",
      "negative: 44\n"
     ]
    }
   ],
   "source": [
    "pos_count, neu_count, neg_count = 0, 0, 0\n",
    "\n",
    "for i_sent in en_merged_res['sentiment']:\n",
    "    if i_sent == 1:\n",
    "        pos_count += 1\n",
    "    elif i_sent == 0:\n",
    "        neu_count += 1\n",
    "    else:\n",
    "        neg_count += 1\n",
    "\n",
    "print(f'positive: {pos_count}')\n",
    "print(f'neutral: {neu_count}')\n",
    "print(f'negative: {neg_count}')"
   ]
  },
  {
   "cell_type": "code",
   "execution_count": null,
   "metadata": {},
   "outputs": [],
   "source": []
  }
 ],
 "metadata": {
  "kernelspec": {
   "display_name": "Python 3",
   "language": "python",
   "name": "python3"
  },
  "language_info": {
   "codemirror_mode": {
    "name": "ipython",
    "version": 3
   },
   "file_extension": ".py",
   "mimetype": "text/x-python",
   "name": "python",
   "nbconvert_exporter": "python",
   "pygments_lexer": "ipython3",
   "version": "3.12.0"
  }
 },
 "nbformat": 4,
 "nbformat_minor": 2
}
