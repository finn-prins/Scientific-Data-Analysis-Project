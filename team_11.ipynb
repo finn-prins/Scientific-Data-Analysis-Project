{
 "cells": [
  {
   "cell_type": "markdown",
   "metadata": {},
   "source": [
    "# Team 11: Predicting the Impact of Twitter Posts on Bitcoin Prices\n",
    "\n",
    "**Group Members:**  Andrey Bartashevich (14586517), Finn Prins (13458434), Duco Trompert (14591227)\n",
    "\n",
    "**Research Question:** Can Twitter (a.k.a. X) posts of famous people influence the prices of Bitcoin?\n",
    "\n",
    "# Hypothesis: \n",
    "**Null hypothesis:** There is no impact of Twitter  posts by individuals with over one million followers on the Bitcoin price movements.\n",
    "\n",
    "**Alternative Hypothesis:** There is an impact of Twitter posts by individuals with over one million followers on the Bitcoin price movements"
   ]
  },
  {
   "cell_type": "markdown",
   "metadata": {},
   "source": [
    "# Data preprocessing"
   ]
  },
  {
   "cell_type": "markdown",
   "metadata": {},
   "source": [
    "**Imports**"
   ]
  },
  {
   "cell_type": "code",
   "execution_count": 2,
   "metadata": {},
   "outputs": [],
   "source": [
    "import pandas as pd\n",
    "import numpy as np"
   ]
  },
  {
   "cell_type": "code",
   "execution_count": 29,
   "metadata": {},
   "outputs": [
    {
     "data": {
      "text/html": [
       "<div>\n",
       "<style scoped>\n",
       "    .dataframe tbody tr th:only-of-type {\n",
       "        vertical-align: middle;\n",
       "    }\n",
       "\n",
       "    .dataframe tbody tr th {\n",
       "        vertical-align: top;\n",
       "    }\n",
       "\n",
       "    .dataframe thead th {\n",
       "        text-align: right;\n",
       "    }\n",
       "</style>\n",
       "<table border=\"1\" class=\"dataframe\">\n",
       "  <thead>\n",
       "    <tr style=\"text-align: right;\">\n",
       "      <th></th>\n",
       "      <th>date</th>\n",
       "      <th>user_name</th>\n",
       "      <th>user_followers</th>\n",
       "      <th>text</th>\n",
       "    </tr>\n",
       "  </thead>\n",
       "  <tbody>\n",
       "    <tr>\n",
       "      <th>0</th>\n",
       "      <td>2023-03-01 23:59:59</td>\n",
       "      <td>ChefSam</td>\n",
       "      <td>4680.0</td>\n",
       "      <td>Which #bitcoin books should I think about read...</td>\n",
       "    </tr>\n",
       "    <tr>\n",
       "      <th>1</th>\n",
       "      <td>2023-03-01 23:59:47</td>\n",
       "      <td>Roy⚡️</td>\n",
       "      <td>770.0</td>\n",
       "      <td>@ThankGodForBTC I appreciate the message, but ...</td>\n",
       "    </tr>\n",
       "    <tr>\n",
       "      <th>2</th>\n",
       "      <td>2023-03-01 23:59:42</td>\n",
       "      <td>Ethereum Yoda</td>\n",
       "      <td>576.0</td>\n",
       "      <td>#Ethereum price update: \\n\\n#ETH $1664.02 USD\\...</td>\n",
       "    </tr>\n",
       "    <tr>\n",
       "      <th>3</th>\n",
       "      <td>2023-03-01 23:59:36</td>\n",
       "      <td>Viction</td>\n",
       "      <td>236.0</td>\n",
       "      <td>CoinDashboard v3.0 is here\\nAvailable on ios a...</td>\n",
       "    </tr>\n",
       "    <tr>\n",
       "      <th>4</th>\n",
       "      <td>2023-03-01 23:59:32</td>\n",
       "      <td>Rosie</td>\n",
       "      <td>12731.0</td>\n",
       "      <td>#Bitcoin Short Term Fractal (4H)💥\\n\\nIn lower ...</td>\n",
       "    </tr>\n",
       "  </tbody>\n",
       "</table>\n",
       "</div>"
      ],
      "text/plain": [
       "                 date      user_name  user_followers  \\\n",
       "0 2023-03-01 23:59:59        ChefSam          4680.0   \n",
       "1 2023-03-01 23:59:47          Roy⚡️           770.0   \n",
       "2 2023-03-01 23:59:42  Ethereum Yoda           576.0   \n",
       "3 2023-03-01 23:59:36        Viction           236.0   \n",
       "4 2023-03-01 23:59:32          Rosie         12731.0   \n",
       "\n",
       "                                                text  \n",
       "0  Which #bitcoin books should I think about read...  \n",
       "1  @ThankGodForBTC I appreciate the message, but ...  \n",
       "2  #Ethereum price update: \\n\\n#ETH $1664.02 USD\\...  \n",
       "3  CoinDashboard v3.0 is here\\nAvailable on ios a...  \n",
       "4  #Bitcoin Short Term Fractal (4H)💥\\n\\nIn lower ...  "
      ]
     },
     "execution_count": 29,
     "metadata": {},
     "output_type": "execute_result"
    }
   ],
   "source": [
    "tweet = pd.read_csv('data/Bitcoin_tweets_dataset_2.csv', engine='python')\n",
    "tweet['date'] = pd.to_datetime(tweet['date'], errors='coerce')\n",
    "tweet = tweet.dropna(subset=['date'])\n",
    "# mill = tweet[tweet['user_followers'] > 1000000]\n",
    "# print(len(mill))\n",
    "tweet[['date', 'user_name', 'user_followers', 'text']].head()\n",
    "\n"
   ]
  },
  {
   "cell_type": "code",
   "execution_count": 30,
   "metadata": {},
   "outputs": [
    {
     "data": {
      "text/html": [
       "<div>\n",
       "<style scoped>\n",
       "    .dataframe tbody tr th:only-of-type {\n",
       "        vertical-align: middle;\n",
       "    }\n",
       "\n",
       "    .dataframe tbody tr th {\n",
       "        vertical-align: top;\n",
       "    }\n",
       "\n",
       "    .dataframe thead th {\n",
       "        text-align: right;\n",
       "    }\n",
       "</style>\n",
       "<table border=\"1\" class=\"dataframe\">\n",
       "  <thead>\n",
       "    <tr style=\"text-align: right;\">\n",
       "      <th></th>\n",
       "      <th>date</th>\n",
       "      <th>Close</th>\n",
       "      <th>Volume</th>\n",
       "    </tr>\n",
       "  </thead>\n",
       "  <tbody>\n",
       "    <tr>\n",
       "      <th>0</th>\n",
       "      <td>2012-01-01 10:01:00</td>\n",
       "      <td>4.58</td>\n",
       "      <td>0.0</td>\n",
       "    </tr>\n",
       "    <tr>\n",
       "      <th>1</th>\n",
       "      <td>2012-01-01 10:02:00</td>\n",
       "      <td>4.58</td>\n",
       "      <td>0.0</td>\n",
       "    </tr>\n",
       "    <tr>\n",
       "      <th>2</th>\n",
       "      <td>2012-01-01 10:03:00</td>\n",
       "      <td>4.58</td>\n",
       "      <td>0.0</td>\n",
       "    </tr>\n",
       "    <tr>\n",
       "      <th>3</th>\n",
       "      <td>2012-01-01 10:04:00</td>\n",
       "      <td>4.58</td>\n",
       "      <td>0.0</td>\n",
       "    </tr>\n",
       "    <tr>\n",
       "      <th>4</th>\n",
       "      <td>2012-01-01 10:05:00</td>\n",
       "      <td>4.58</td>\n",
       "      <td>0.0</td>\n",
       "    </tr>\n",
       "  </tbody>\n",
       "</table>\n",
       "</div>"
      ],
      "text/plain": [
       "                 date  Close  Volume\n",
       "0 2012-01-01 10:01:00   4.58     0.0\n",
       "1 2012-01-01 10:02:00   4.58     0.0\n",
       "2 2012-01-01 10:03:00   4.58     0.0\n",
       "3 2012-01-01 10:04:00   4.58     0.0\n",
       "4 2012-01-01 10:05:00   4.58     0.0"
      ]
     },
     "execution_count": 30,
     "metadata": {},
     "output_type": "execute_result"
    }
   ],
   "source": [
    "bitcoin = pd.read_csv('data/btcusd_1-min_data.csv')\n",
    "bitcoin.rename(columns={'Timestamp' : 'date'}, inplace=True)\n",
    "bitcoin['date'] = pd.to_datetime(bitcoin['date'], unit='s')\n",
    "bitcoin[['date','Close','Volume']].head()\n"
   ]
  },
  {
   "cell_type": "code",
   "execution_count": 32,
   "metadata": {},
   "outputs": [
    {
     "name": "stdout",
     "output_type": "stream",
     "text": [
      "                 date    Close    Volume          user_name  user_followers  \\\n",
      "0 2023-02-25 20:50:00  22977.0  1.110062             Dani_B           218.0   \n",
      "1 2023-02-25 20:51:00  23001.0  0.041559       SecretMsgnft           965.0   \n",
      "2 2023-02-25 20:53:00  22990.0  0.007670  Live Price Crypto          4464.0   \n",
      "3 2023-02-25 20:53:00  22990.0  0.007670      Manuel Abarca          1272.0   \n",
      "4 2023-02-25 20:55:00  22990.0  0.010231            운위임에 헨뤼           372.0   \n",
      "\n",
      "                                                text  \n",
      "0  Another great series of colour splash\\n\\nJoin ...  \n",
      "1  “I’ve developed a new open source P2P e-cash s...  \n",
      "2  Weekly 🚀\\n\\n#BTC Last $22921\\n\\n-RSI: 54\\n-Mov...  \n",
      "3  @xsgames_ #Bitcoin on the Lightning Network\\n\\...  \n",
      "4  Stablecoins have been around for a while \\nbut...  \n"
     ]
    }
   ],
   "source": [
    "merged = pd.merge(bitcoin[['date', 'Close', 'Volume']], tweet[['date', 'user_name', 'user_followers', 'text']], on='date', how='inner')\n",
    "\n",
    "print(merged.head())"
   ]
  },
  {
   "cell_type": "code",
   "execution_count": null,
   "metadata": {},
   "outputs": [],
   "source": []
  },
  {
   "cell_type": "code",
   "execution_count": null,
   "metadata": {},
   "outputs": [],
   "source": []
  }
 ],
 "metadata": {
  "kernelspec": {
   "display_name": "Python 3",
   "language": "python",
   "name": "python3"
  },
  "language_info": {
   "codemirror_mode": {
    "name": "ipython",
    "version": 3
   },
   "file_extension": ".py",
   "mimetype": "text/x-python",
   "name": "python",
   "nbconvert_exporter": "python",
   "pygments_lexer": "ipython3",
   "version": "3.12.0"
  }
 },
 "nbformat": 4,
 "nbformat_minor": 2
}
